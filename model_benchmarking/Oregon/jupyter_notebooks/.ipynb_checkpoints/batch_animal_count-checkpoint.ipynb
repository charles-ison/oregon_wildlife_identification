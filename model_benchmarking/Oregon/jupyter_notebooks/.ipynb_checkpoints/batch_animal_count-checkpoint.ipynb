{
 "cells": [
  {
   "cell_type": "code",
   "execution_count": null,
   "metadata": {
    "id": "9KL9nUitbYwh",
    "tags": []
   },
   "outputs": [],
   "source": [
    "import os\n",
    "import torch\n",
    "import torchvision\n",
    "import torchvision.models as models\n",
    "import torch.nn as nn\n",
    "import torch.optim as optim\n",
    "import torchvision.transforms as transforms\n",
    "import seaborn as sns\n",
    "import numpy as np\n",
    "import matplotlib.pyplot as plt\n",
    "import json\n",
    "from PIL import Image\n",
    "from torch.utils.data import DataLoader\n",
    "from sklearn.model_selection import train_test_split\n",
    "from sklearn.metrics import precision_recall_fscore_support\n",
    "from sklearn.metrics import confusion_matrix\n",
    "from sklearn.metrics import accuracy_score\n",
    "from google.colab import drive\n",
    "from operator import itemgetter\n",
    "from datetime import datetime"
   ]
  },
  {
   "cell_type": "code",
   "execution_count": 2,
   "metadata": {
    "id": "ECpQROeamJfA"
   },
   "outputs": [],
   "source": [
    "class image_data_set(torch.utils.data.Dataset):\n",
    "    def __init__(self, data, labels):\n",
    "        self.data = data\n",
    "        self.labels = labels\n",
    "  \n",
    "    def __len__(self):\n",
    "        return len(self.data)\n",
    "  \n",
    "    def __getitem__(self, index):\n",
    "        return {'data': self.data[index], 'label': self.labels[index]}"
   ]
  },
  {
   "cell_type": "code",
   "execution_count": 3,
   "metadata": {
    "id": "qyIy4drE2BUt"
   },
   "outputs": [],
   "source": [
    "def get_image_tensor(file_path):\n",
    "    transform = transforms.Compose([\n",
    "        transforms.Resize((224, 224)),\n",
    "        transforms.ToTensor(),\n",
    "        transforms.Normalize((0.5, 0.5, 0.5), (0.5, 0.5, 0.5))\n",
    "    ])\n",
    "    \n",
    "    image = Image.open(file_path)\n",
    "    return transform(image)\n",
    "\n",
    "def remove_images_with_no_datetime(images):\n",
    "    new_images = []\n",
    "    for image in images:\n",
    "        if(\"datetime\" in image):\n",
    "            new_images.append(image)\n",
    "    return new_images\n",
    "\n",
    "def get_sorted_images(coco_key):\n",
    "    images = coco_key[\"images\"]\n",
    "    images = remove_images_with_no_datetime(images)\n",
    "    return sorted(images, key=itemgetter(\"datetime\"))\n",
    "\n",
    "def get_data_sets(downloaded_data_dir, json_file_name): \n",
    "    json_file = open(downloaded_data_dir + json_file_name)\n",
    "    coco_key = json.load(json_file)\n",
    "    images = get_sorted_images(coco_key)\n",
    "\n",
    "    batch_data, batch_labels, data, labels, flat_data, flat_labels = [], [], [], [], [], []\n",
    "    previous_time_stamp = None\n",
    "    for index, image in enumerate(images):\n",
    "        time_stamp = datetime.strptime(image[\"datetime\"], '%Y:%m:%d %H:%M:%S')\n",
    "        file_name = image[\"file_name\"]\n",
    "        file_path = downloaded_data_dir + file_name\n",
    "        \n",
    "        if os.path.isfile(file_path):\n",
    "            label = coco_key[\"annotations\"][index][\"category_id\"]\n",
    "            try:\n",
    "                image_tensor = get_image_tensor(file_path)\n",
    "                if index != 0 and (time_stamp - previous_time_stamp).total_seconds() < 60:\n",
    "                    batch_data.append(image_tensor)\n",
    "                    batch_labels.append(label)\n",
    "                else:\n",
    "                    data.append(batch_data)\n",
    "                    labels.append(batch_labels)\n",
    "                    batch_data, batch_labels = [], []\n",
    "                    batch_data.append(image_tensor)\n",
    "                    batch_labels.append(label)\n",
    "                previous_time_stamp = time_stamp\n",
    "                flat_data.append(image_tensor)\n",
    "                flat_labels.append(label)\n",
    "            except:\n",
    "                print(\"Truncated image encountered, leaving out of training and testing\")\n",
    "    \n",
    "    \n",
    "    training_data, testing_data, training_labels, testing_labels = train_test_split(flat_data, flat_labels, test_size = 0.20)\n",
    "    batch_training_data, batch_testing_data, batch_training_labels, batch_testing_labels = train_test_split(data, labels, test_size = 0.20)\n",
    "    \n",
    "    print(\"\\nNumber of training photos: \" + str(len(training_data)))\n",
    "    print(\"Number of testing photos: \" + str(len(testing_data)))\n",
    "    print(\"Number of batch testing photos: \" + str(len(batch_testing_data)))\n",
    "    \n",
    "    json_file.close()\n",
    "    \n",
    "    return training_data, testing_data, training_labels, testing_labels, batch_testing_data, batch_testing_labels"
   ]
  },
  {
   "cell_type": "code",
   "execution_count": 4,
   "metadata": {
    "id": "wpeG79qU2Tdh"
   },
   "outputs": [],
   "source": [
    "def print_image(image_tensor, prediction, downloaded_data_dir, index):\n",
    "    image_file_name = downloaded_data_dir + str(prediction.item()) + \"_\" + str(index) + \".png\"\n",
    "    \n",
    "    #Alternative normalized RGB visualization: plt.imshow(image_tensor.cpu().permute(1, 2, 0).numpy())\n",
    "    plt.imshow(image_tensor[0].cpu(), cmap=\"gray\")\n",
    "    plt.title(\"Incorrectly Predicted \" + str(prediction.item()) + \" Animals Present\") \n",
    "    plt.show()\n",
    "    #plt.imsave(image_file_name, image_tensor[0].cpu(), cmap=\"gray\")\n",
    "\n",
    "def print_testing_analysis(all_labels, all_predictions, title, downloaded_data_dir):\n",
    "    subplot = plt.subplot()\n",
    "\n",
    "    cf_matrix = confusion_matrix(all_labels, all_predictions, labels=[0, 1, 2, 3, 4, 5, 6, 7, 8, 9])\n",
    "    cf_matrix = np.flip(cf_matrix, axis=0)\n",
    "    sns.heatmap(cf_matrix, annot=True, fmt='g', cmap='Blues')\n",
    "\n",
    "    subplot.set_xlabel('Predictions')\n",
    "    subplot.set_ylabel('Labels')\n",
    "    subplot.set_title(title + ' Testing Confusion Matrix')\n",
    "    subplot.xaxis.set_ticklabels([0, 1, 2, 3, 4, 5, 6, 7, 8, 9])\n",
    "    subplot.yaxis.set_ticklabels([9, 8, 7, 6, 5, 4, 3, 2, 1, 0])\n",
    "    \n",
    "    plot_file_name = downloaded_data_dir + title + \"_Confusion_Matrix.png\"\n",
    "    #plt.savefig(plot_file_name)\n",
    "    plt.show()\n",
    "\n",
    "    accuracy = accuracy_score(all_labels, all_predictions)\n",
    "    print(title + \" Accuracy: \" + str(accuracy))\n",
    "\n",
    "    precision, recall, f_score, support = precision_recall_fscore_support(all_labels, all_predictions, average='weighted')\n",
    "    print(title + \" Precision: \" + str(precision))\n",
    "    print(title + \" Recall: \" + str(recall))\n",
    "    print(title + \" F-Score: \" + str(f_score))\n",
    "\n",
    "def train(model, training_loader, criterion, optimizer):\n",
    "    model.train()\n",
    "    running_loss = 0.0\n",
    "    num_correct = 0\n",
    "    for batch in training_loader:\n",
    "        data, labels = batch['data'].to(device), batch['label'].to(device).float()\n",
    "        optimizer.zero_grad()\n",
    "        output = model(data).flatten()\n",
    "        \n",
    "        loss = criterion(output, labels)\n",
    "        running_loss += loss.item()\n",
    "        num_correct += (output.round() == labels).sum().item()\n",
    "        loss.backward()\n",
    "        optimizer.step()\n",
    "    \n",
    "    loss = running_loss/len(training_loader.dataset)\n",
    "    accuracy = num_correct/len(training_loader.dataset)\n",
    "    return loss, accuracy\n",
    "\n",
    "def test(model, testing_loader, criterion, print_incorrect_images, downloaded_data_dir):\n",
    "    model.eval()\n",
    "    running_loss = 0.0\n",
    "    num_correct = 0\n",
    "    num_samples = 0\n",
    "    all_labels, all_predictions = [], []\n",
    "\n",
    "    for i, batch in enumerate(testing_loader):\n",
    "        data, labels = batch['data'].to(device), batch['label'].to(device).float()\n",
    "        output = model(data).flatten()\n",
    "        \n",
    "        loss = criterion(output, labels)\n",
    "        running_loss += loss.item()\n",
    "        for index, prediction in enumerate(output.round()):\n",
    "            all_predictions.append(prediction.cpu().item())\n",
    "            if(prediction == labels[index]):\n",
    "                num_correct += 1\n",
    "            elif(print_incorrect_images):\n",
    "                print_image(data[index], prediction, downloaded_data_dir, i)\n",
    "\n",
    "        all_labels.extend(labels.cpu())\n",
    "    \n",
    "    loss = running_loss/len(testing_loader.dataset)\n",
    "    accuracy = num_correct/len(testing_loader.dataset)\n",
    "    return loss, accuracy, all_labels, all_predictions\n",
    "\n",
    "def test_batch(model, batch_testing_data_set, criterion, print_incorrect_images, downloaded_data_dir):\n",
    "    model.eval()\n",
    "    running_loss = 0.0\n",
    "    num_correct = 0\n",
    "    all_labels, all_predictions = [], []\n",
    "\n",
    "    for i, batch in enumerate(batch_testing_data_set):\n",
    "        data = torch.stack(batch['data']).to(device)\n",
    "        print(data.shape)\n",
    "        labels = torch.FloatTensor(batch['label']).to(device)\n",
    "        print(labels.shape)\n",
    "        output = model(data).flatten()\n",
    "\n",
    "        max_prediction = torch.max(output.round())\n",
    "        max_label = torch.max(labels)\n",
    "\n",
    "        loss = criterion(max_prediction, max_label)\n",
    "        running_loss += loss.item()\n",
    "\n",
    "        all_predictions.append(max_prediction)\n",
    "        all_labels.append(max_label)\n",
    "    \n",
    "    loss = running_loss/len(batch_testing_data_set)\n",
    "    accuracy = num_correct/len(batch_testing_data_set)\n",
    "    return loss, accuracy, all_labels, all_predictions"
   ]
  },
  {
   "cell_type": "code",
   "execution_count": 5,
   "metadata": {
    "id": "ZBTEy1kg3pem"
   },
   "outputs": [],
   "source": [
    "def train_and_test(num_epochs, model, model_name, training_loader, testing_loader, device, criterion, downloaded_data_dir, batch_testing_data_set):    \n",
    "    model.to(device)\n",
    "    optimizer = optim.Adam(model.parameters(), lr=0.001)\n",
    "    highest_testing_accuracy = 0.0\n",
    "\n",
    "    for epoch in range(num_epochs):\n",
    "        print(\"Epoch: \" + str(epoch))\n",
    "        \n",
    "        training_loss, training_accuracy = train(model, training_loader, criterion, optimizer)\n",
    "        print(\"training loss: \" + str(training_loss) + \" and training accuracy: \" + str(training_accuracy))\n",
    "        \n",
    "        testing_loss, testing_accuracy, _, _ = test(model, testing_loader, criterion, False, downloaded_data_dir)\n",
    "        print(\"testing loss: \" + str(testing_loss) + \" and testing accuracy: \" + str(testing_accuracy))\n",
    "\n",
    "        #batch_testing_loss, batch_testing_accuracy, _, _ = test_batch(model, batch_testing_data_set, criterion, False, downloaded_data_dir)\n",
    "        #print(\"batch testing loss: \" + str(batch_testing_loss) + \" and batch testing accuracy: \" + str(batch_testing_accuracy))\n",
    "\n",
    "        if highest_testing_accuracy < testing_accuracy:\n",
    "            print(\"Highest testing accuracy achieved, saving weights\")\n",
    "            highest_testing_accuracy = testing_accuracy\n",
    "            torch.save(model, \"saved_models/batch_count_\" + model_name + \".pt\")"
   ]
  },
  {
   "cell_type": "markdown",
   "metadata": {
    "id": "dAAF1fMaol0q"
   },
   "source": [
    "# Declaring Constants"
   ]
  },
  {
   "cell_type": "code",
   "execution_count": 6,
   "metadata": {
    "colab": {
     "base_uri": "https://localhost:8080/"
    },
    "id": "K8oV16oUAaFh",
    "outputId": "043e2f4e-f860-4876-f204-fdb7c50c4b92"
   },
   "outputs": [
    {
     "name": "stdout",
     "output_type": "stream",
     "text": [
      "2.0.1+cu118\n",
      "0.15.2+cu118\n",
      "torch.cuda.is_available(): True\n"
     ]
    }
   ],
   "source": [
    "num_epochs = 1\n",
    "num_classes = 10\n",
    "batch_size = 10\n",
    "json_file_name = \"animal_count_key.json\"\n",
    "downloaded_data_dir = \"animal_count_manually_labeled_wildlife_data/\"\n",
    "\n",
    "print(torch.__version__)\n",
    "print(torchvision.__version__)\n",
    "print(\"torch.cuda.is_available(): \" + str(torch.cuda.is_available()))\n",
    "device = torch.device(\"cuda:0\" if torch.cuda.is_available() else \"cpu\")\n",
    "torch.cuda.empty_cache()\n",
    "criterion = nn.MSELoss()"
   ]
  },
  {
   "cell_type": "markdown",
   "metadata": {
    "id": "K5SQO96ZAaFi"
   },
   "source": [
    "# Loading Data"
   ]
  },
  {
   "cell_type": "code",
   "execution_count": 7,
   "metadata": {
    "colab": {
     "base_uri": "https://localhost:8080/"
    },
    "id": "G8LXH0PAAaFi",
    "outputId": "363b8b1c-12c1-418a-eb3f-a3ddcd0e9c7f"
   },
   "outputs": [
    {
     "name": "stdout",
     "output_type": "stream",
     "text": [
      "Mounted at /content/drive\n"
     ]
    }
   ],
   "source": [
    "# Use this to connect to Google Drive in Google Colab\n",
    "drive.mount('/content/drive')\n",
    "\n",
    "# Use this to unzip file in Google Colab\n",
    "!unzip -qq drive/MyDrive/animal_count_manually_labeled_wildlife_data"
   ]
  },
  {
   "cell_type": "code",
   "execution_count": null,
   "metadata": {
    "id": "yrANCLqQAaFj"
   },
   "outputs": [],
   "source": [
    "training_data, testing_data, training_labels, testing_labels, batch_testing_data, batch_testing_labels = get_data_sets(downloaded_data_dir, json_file_name)\n",
    "training_data_set = image_data_set(training_data, training_labels)\n",
    "testing_data_set = image_data_set(testing_data, testing_labels)\n",
    "batch_testing_data_set = image_data_set(batch_testing_data, batch_testing_labels)\n",
    "training_loader = DataLoader(dataset = training_data_set, batch_size = batch_size, shuffle = True)\n",
    "testing_loader = DataLoader(dataset = testing_data_set, batch_size = batch_size, shuffle = True)"
   ]
  },
  {
   "cell_type": "markdown",
   "metadata": {
    "id": "p9tR6BkHAaFj"
   },
   "source": [
    "# Declaring Models"
   ]
  },
  {
   "cell_type": "code",
   "execution_count": null,
   "metadata": {
    "id": "iV_C6HYvAaFk"
   },
   "outputs": [],
   "source": [
    "resnet50 = models.resnet50(weights = models.ResNet50_Weights.DEFAULT)\n",
    "in_features = resnet50.fc.in_features\n",
    "resnet50.fc = nn.Linear(in_features, 1)\n",
    "\n",
    "resnet152 = models.resnet152(weights = models.ResNet152_Weights.DEFAULT)\n",
    "in_features = resnet152.fc.in_features\n",
    "resnet152.fc = nn.Linear(in_features, 1)\n",
    "\n",
    "vit_l_16 = models.vit_l_16(weights = models.ViT_L_16_Weights.DEFAULT)\n",
    "in_features = vit_l_16.heads[0].in_features\n",
    "vit_l_16.heads[0] = nn.Linear(in_features, 1)\n",
    "\n",
    "if torch.cuda.device_count() > 1:\n",
    "    print(\"Multiple GPUs available, using: \" + str(torch.cuda.device_count()))\n",
    "    resnet50 = nn.DataParallel(resnet50)\n",
    "    resnet152 = nn.DataParallel(resnet152)\n",
    "    vit_l_16 = nn.DataParallel(vit_l_16)"
   ]
  },
  {
   "cell_type": "markdown",
   "metadata": {
    "id": "Hpgk9EbFAaFk"
   },
   "source": [
    "# Training"
   ]
  },
  {
   "cell_type": "code",
   "execution_count": null,
   "metadata": {
    "id": "Hb_Kgb-zAaFk"
   },
   "outputs": [],
   "source": [
    "print(\"\\nTraining and Testing ResNet50\")\n",
    "train_and_test(num_epochs, resnet50, \"ResNet50\", training_loader, testing_loader, device, criterion, downloaded_data_dir, batch_testing_data_set)"
   ]
  },
  {
   "cell_type": "code",
   "execution_count": null,
   "metadata": {
    "id": "soOGiu3Wugpa"
   },
   "outputs": [],
   "source": [
    "print(\"\\nTraining and Testing ResNet152\")\n",
    "train_and_test(num_epochs, resnet152, \"ResNet152\", training_loader, testing_loader, device, criterion, downloaded_data_dir)"
   ]
  },
  {
   "cell_type": "code",
   "execution_count": null,
   "metadata": {
    "id": "kIHc6Mm5uihf"
   },
   "outputs": [],
   "source": [
    "print(\"\\nTraining and Testing ViTLarge16\")\n",
    "train_and_test(num_epochs, vit_l_16, \"ViTLarge16\", training_loader, testing_loader, device, criterion, downloaded_data_dir)"
   ]
  },
  {
   "cell_type": "markdown",
   "metadata": {
    "id": "KjAkd6w_AaFl"
   },
   "source": [
    "# Final Testing"
   ]
  },
  {
   "cell_type": "code",
   "execution_count": null,
   "metadata": {
    "id": "y8Ziw5IGAaFl"
   },
   "outputs": [],
   "source": [
    "testing_loss, testing_accuracy, labels, predictions = test_batch(resnet50, testing_loader, criterion, True, downloaded_data_dir)\n",
    "print_testing_analysis(labels, predictions, \"ResNet50\", downloaded_data_dir)"
   ]
  },
  {
   "cell_type": "code",
   "execution_count": null,
   "metadata": {
    "colab": {
     "base_uri": "https://localhost:8080/",
     "height": 184
    },
    "id": "Qp3kIvTsAaFl",
    "outputId": "bdb3afc2-868c-4a40-e664-62c99eeb4866"
   },
   "outputs": [
    {
     "ename": "NameError",
     "evalue": "ignored",
     "output_type": "error",
     "traceback": [
      "\u001b[0;31m---------------------------------------------------------------------------\u001b[0m",
      "\u001b[0;31mNameError\u001b[0m                                 Traceback (most recent call last)",
      "\u001b[0;32m<ipython-input-2-05e7326dad5a>\u001b[0m in \u001b[0;36m<cell line: 1>\u001b[0;34m()\u001b[0m\n\u001b[0;32m----> 1\u001b[0;31m \u001b[0mtesting_loss\u001b[0m\u001b[0;34m,\u001b[0m \u001b[0mtesting_accuracy\u001b[0m\u001b[0;34m,\u001b[0m \u001b[0mlabels\u001b[0m\u001b[0;34m,\u001b[0m \u001b[0mpredictions\u001b[0m \u001b[0;34m=\u001b[0m \u001b[0mtest\u001b[0m\u001b[0;34m(\u001b[0m\u001b[0mresnet152\u001b[0m\u001b[0;34m,\u001b[0m \u001b[0mtesting_loader\u001b[0m\u001b[0;34m,\u001b[0m \u001b[0mcriterion\u001b[0m\u001b[0;34m,\u001b[0m \u001b[0;32mTrue\u001b[0m\u001b[0;34m,\u001b[0m \u001b[0mdownloaded_data_dir\u001b[0m\u001b[0;34m)\u001b[0m\u001b[0;34m\u001b[0m\u001b[0;34m\u001b[0m\u001b[0m\n\u001b[0m\u001b[1;32m      2\u001b[0m \u001b[0mprint_testing_analysis\u001b[0m\u001b[0;34m(\u001b[0m\u001b[0mlabels\u001b[0m\u001b[0;34m,\u001b[0m \u001b[0mpredictions\u001b[0m\u001b[0;34m,\u001b[0m \u001b[0;34m\"ResNet152\"\u001b[0m\u001b[0;34m,\u001b[0m \u001b[0mdownloaded_data_dir\u001b[0m\u001b[0;34m)\u001b[0m\u001b[0;34m\u001b[0m\u001b[0;34m\u001b[0m\u001b[0m\n",
      "\u001b[0;31mNameError\u001b[0m: name 'test' is not defined"
     ]
    }
   ],
   "source": [
    "\n",
    "testing_loss, testing_accuracy, labels, predictions = test_batch(resnet152, testing_loader, criterion, True, downloaded_data_dir)\n",
    "print_testing_analysis(labels, predictions, \"ResNet152\", downloaded_data_dir)"
   ]
  },
  {
   "cell_type": "code",
   "execution_count": null,
   "metadata": {
    "colab": {
     "base_uri": "https://localhost:8080/",
     "height": 184
    },
    "id": "lGGdZQh2oq3e",
    "outputId": "ff85010e-2a5d-4f22-977a-0b13646337c0"
   },
   "outputs": [
    {
     "ename": "NameError",
     "evalue": "ignored",
     "output_type": "error",
     "traceback": [
      "\u001b[0;31m---------------------------------------------------------------------------\u001b[0m",
      "\u001b[0;31mNameError\u001b[0m                                 Traceback (most recent call last)",
      "\u001b[0;32m<ipython-input-3-ecebddd2a2d9>\u001b[0m in \u001b[0;36m<cell line: 1>\u001b[0;34m()\u001b[0m\n\u001b[0;32m----> 1\u001b[0;31m \u001b[0mtesting_loss\u001b[0m\u001b[0;34m,\u001b[0m \u001b[0mtesting_accuracy\u001b[0m\u001b[0;34m,\u001b[0m \u001b[0mlabels\u001b[0m\u001b[0;34m,\u001b[0m \u001b[0mpredictions\u001b[0m \u001b[0;34m=\u001b[0m \u001b[0mtest\u001b[0m\u001b[0;34m(\u001b[0m\u001b[0mvit_l_16\u001b[0m\u001b[0;34m,\u001b[0m \u001b[0mtesting_loader\u001b[0m\u001b[0;34m,\u001b[0m \u001b[0mcriterion\u001b[0m\u001b[0;34m,\u001b[0m \u001b[0;32mTrue\u001b[0m\u001b[0;34m,\u001b[0m \u001b[0mdownloaded_data_dir\u001b[0m\u001b[0;34m)\u001b[0m\u001b[0;34m\u001b[0m\u001b[0;34m\u001b[0m\u001b[0m\n\u001b[0m\u001b[1;32m      2\u001b[0m \u001b[0mprint_testing_analysis\u001b[0m\u001b[0;34m(\u001b[0m\u001b[0mlabels\u001b[0m\u001b[0;34m,\u001b[0m \u001b[0mpredictions\u001b[0m\u001b[0;34m,\u001b[0m \u001b[0;34m\"ViT_Large_16\"\u001b[0m\u001b[0;34m,\u001b[0m \u001b[0mdownloaded_data_dir\u001b[0m\u001b[0;34m)\u001b[0m\u001b[0;34m\u001b[0m\u001b[0;34m\u001b[0m\u001b[0m\n",
      "\u001b[0;31mNameError\u001b[0m: name 'test' is not defined"
     ]
    }
   ],
   "source": [
    "testing_loss, testing_accuracy, labels, predictions = test_batch(vit_l_16, testing_loader, criterion, True, downloaded_data_dir)\n",
    "print_testing_analysis(labels, predictions, \"ViT_Large_16\", downloaded_data_dir)"
   ]
  },
  {
   "cell_type": "code",
   "execution_count": null,
   "metadata": {
    "id": "nxHm4i0Ao42s"
   },
   "outputs": [],
   "source": []
  }
 ],
 "metadata": {
  "accelerator": "GPU",
  "colab": {
   "gpuType": "T4",
   "provenance": []
  },
  "kernelspec": {
   "display_name": "Python 3 (ipykernel)",
   "language": "python",
   "name": "python3"
  },
  "language_info": {
   "codemirror_mode": {
    "name": "ipython",
    "version": 3
   },
   "file_extension": ".py",
   "mimetype": "text/x-python",
   "name": "python",
   "nbconvert_exporter": "python",
   "pygments_lexer": "ipython3",
   "version": "3.10.7"
  }
 },
 "nbformat": 4,
 "nbformat_minor": 4
}
