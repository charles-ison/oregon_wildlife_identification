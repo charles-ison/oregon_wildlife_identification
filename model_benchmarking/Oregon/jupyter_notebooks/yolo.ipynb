{
  "cells": [
    {
      "cell_type": "code",
      "execution_count": null,
      "metadata": {
        "id": "9KL9nUitbYwh"
      },
      "outputs": [],
      "source": [
        "import os\n",
        "import torch\n",
        "import torchvision.models as models\n",
        "import torch.nn as nn\n",
        "import torch.optim as optim\n",
        "import torchvision.transforms as transforms\n",
        "import seaborn as sns\n",
        "import numpy as np\n",
        "import matplotlib.pyplot as plt\n",
        "import pandas as pd\n",
        "from PIL import Image\n",
        "from sklearn.model_selection import train_test_split\n",
        "from sklearn.metrics import precision_recall_fscore_support\n",
        "from sklearn.metrics import confusion_matrix\n",
        "from sklearn.metrics import accuracy_score\n",
        "from google.colab import drive"
      ]
    },
    {
      "cell_type": "code",
      "execution_count": null,
      "metadata": {
        "id": "ECpQROeamJfA"
      },
      "outputs": [],
      "source": [
        "class image_data_set(torch.utils.data.Dataset):\n",
        "    def __init__(self, data, labels):\n",
        "        self.data = data\n",
        "        self.labels = labels\n",
        "  \n",
        "    def __len__(self):\n",
        "        return len(self.data)\n",
        "  \n",
        "    def __getitem__(self, index):\n",
        "        return {'data': self.data[index], 'label': self.labels[index]}"
      ]
    },
    {
      "cell_type": "code",
      "execution_count": null,
      "metadata": {
        "id": "qyIy4drE2BUt"
      },
      "outputs": [],
      "source": [
        "def print_data_analysis(present_lighting_sufficient_data, \n",
        "                        present_lighting_insufficient_data, \n",
        "                        not_present_lighting_sufficient_data, \n",
        "                        not_present_lighting_insufficient_data):\n",
        "  \n",
        "    subplot = plt.subplot()\n",
        "    data_lengthes = np.array([\n",
        "        [len(present_lighting_sufficient_data), len(present_lighting_insufficient_data)], \n",
        "        [len(not_present_lighting_sufficient_data), len(not_present_lighting_insufficient_data)]\n",
        "    ])\n",
        "    sns.heatmap(data_lengthes, annot=True, fmt='g', cmap='Blues')\n",
        "    subplot.xaxis.set_ticklabels(['Lighting Sufficient', 'Lighting Not Sufficient'])\n",
        "    subplot.yaxis.set_ticklabels(['Wildlife Present', 'No Wildlife Present'])\n",
        "    plt.show()\n",
        "\n",
        "def get_image_tensor(file_path):\n",
        "    image = Image.open(file_path)\n",
        "    return image\n",
        "\n",
        "def get_data_and_labels(directory_path, label):\n",
        "    image_tensors, labels = [], []\n",
        "    for file in os.listdir(directory_path):\n",
        "        if file.endswith(\".JPG\"):\n",
        "            file_path = directory_path + file\n",
        "            image_tensor = get_image_tensor(file_path)\n",
        "\n",
        "            image_tensors.append(image_tensor)\n",
        "            labels.append(label)\n",
        "            \n",
        "    return image_tensors, labels\n",
        "\n",
        "def get_data_for_label(file_pathes, label): \n",
        "\n",
        "  all_data, all_labels = [], []\n",
        "  for file_path in file_pathes:\n",
        "      data, labels = get_data_and_labels(file_path, label)\n",
        "      all_data.extend(data)\n",
        "      all_labels.extend(labels)\n",
        "\n",
        "  return all_data, all_labels\n",
        "    \n",
        "def get_data_sets(present_file_pathes_lighting_sufficient, \n",
        "                  present_file_pathes_lighting_insufficient,\n",
        "                  not_present_file_pathes_lighting_sufficient,\n",
        "                  not_present_file_pathes_lighting_insufficient): \n",
        "\n",
        "    present_ls_data, present_ls_labels = get_data_for_label(present_file_pathes_lighting_sufficient, 1)\n",
        "    present_lis_data, present_lis_labels = get_data_for_label(present_file_pathes_lighting_insufficient, 1)\n",
        "    not_present_ls_data, not_present_ls_labels = get_data_for_label(not_present_file_pathes_lighting_sufficient, 0)\n",
        "    not_present_lis_data, not_present_lis_labels = get_data_for_label(not_present_file_pathes_lighting_insufficient, 0)\n",
        "\n",
        "    print_data_analysis(present_ls_data, present_lis_data, not_present_ls_data, not_present_lis_data)\n",
        "    \n",
        "    ls_data = present_ls_data + not_present_ls_data\n",
        "    ls_labels = present_ls_labels + not_present_ls_labels\n",
        "\n",
        "    lis_data = present_lis_data + not_present_lis_data\n",
        "    lis_labels = present_lis_labels + not_present_lis_labels\n",
        "    \n",
        "    ls_training_data, ls_testing_data, ls_training_labels, ls_testing_labels = train_test_split(ls_data, ls_labels)\n",
        "    lis_training_data, lis_testing_data, lis_training_labels, lis_testing_labels = train_test_split(lis_data, lis_labels)\n",
        "\n",
        "    training_data = ls_training_data + lis_training_data\n",
        "    testing_data = ls_testing_data + lis_testing_data\n",
        "    training_labels = ls_training_labels + lis_training_labels\n",
        "    testing_labels = ls_testing_labels + lis_testing_labels\n",
        "    \n",
        "    print(\"\\nNumber of training photos: \" + str(len(training_data)))\n",
        "    print(\"Number of testing photos: \" + str(len(testing_data)))\n",
        "    print(\"Number of lighting sufficient testing photos: \" + str(len(ls_testing_data)))\n",
        "    print(\"Number of lighting insufficient testing photos: \" + str(len(lis_testing_data)))\n",
        "    \n",
        "    training_data_set = image_data_set(training_data, training_labels)\n",
        "    testing_data_set = image_data_set(testing_data, testing_labels)\n",
        "    ls_testing_data_set = image_data_set(ls_testing_data, ls_testing_labels)\n",
        "    lis_testing_data_set = image_data_set(lis_testing_data, lis_testing_labels)\n",
        "    \n",
        "    return training_data_set, testing_data_set, ls_testing_data_set, lis_testing_data_set\n",
        "\n",
        "def get_loaders(training_data_set, testing_data_set, ls_testing_data_set, lis_testing_data_set, batch_size):\n",
        "    training_loader = torch.utils.data.DataLoader(dataset = training_data_set,\n",
        "                                                  batch_size = batch_size,\n",
        "                                                  shuffle = True)\n",
        "\n",
        "    testing_loader = torch.utils.data.DataLoader(dataset = testing_data_set,\n",
        "                                                 batch_size = batch_size,\n",
        "                                                 shuffle = True)\n",
        "    \n",
        "    ls_testing_loader = torch.utils.data.DataLoader(dataset = ls_testing_data_set,\n",
        "                                                 batch_size = batch_size,\n",
        "                                                 shuffle = True)\n",
        "    \n",
        "    lis_testing_loader = torch.utils.data.DataLoader(dataset = lis_testing_data_set,\n",
        "                                                 batch_size = batch_size,\n",
        "                                                 shuffle = True)\n",
        "    \n",
        "    return training_loader, testing_loader, ls_testing_loader, lis_testing_loader"
      ]
    },
    {
      "cell_type": "code",
      "execution_count": null,
      "metadata": {
        "id": "wpeG79qU2Tdh"
      },
      "outputs": [],
      "source": [
        "def print_image(image_tensor, prediction):\n",
        "    if(prediction == 1):\n",
        "        prediction_string = \"Wildlife Present\"\n",
        "    else:\n",
        "        prediction_string = \"No Wildlife Present\"\n",
        "\n",
        "    #Alternative normalized RGB visualization: plt.imshow(image_tensor.cpu().permute(1, 2, 0).numpy())\n",
        "    plt.imshow(image_tensor[0].cpu(), cmap=\"gray\")\n",
        "    plt.title(\"Incorrectly Predicted \" + prediction_string) \n",
        "    plt.show()\n",
        "\n",
        "def print_testing_analysis(all_labels, all_predictions, title):\n",
        "    subplot = plt.subplot()\n",
        "\n",
        "    cf_matrix = confusion_matrix(all_labels, all_predictions, labels=[1, 0])\n",
        "    sns.heatmap(cf_matrix, annot=True, fmt='g', cmap='Blues')\n",
        "\n",
        "    subplot.set_xlabel('Predictions')\n",
        "    subplot.set_ylabel('Labels')\n",
        "    subplot.set_title(title + ' Testing Confusion Matrix')\n",
        "    subplot.xaxis.set_ticklabels(['Wildlife Present', 'No Wildlife Present'])\n",
        "    subplot.yaxis.set_ticklabels(['Wildlife Present', 'No Wildlife Present'])\n",
        "    plt.show()\n",
        "\n",
        "    accuracy = accuracy_score(all_labels, all_predictions)\n",
        "    print(title + \" Accuracy: \" + str(accuracy))\n",
        "\n",
        "    precision, recall, f_score, support = precision_recall_fscore_support(all_labels, all_predictions, average='binary')\n",
        "    print(title + \" Precision: \" + str(precision))\n",
        "    print(title + \" Recall: \" + str(recall))\n",
        "    print(title + \" F-Score: \" + str(f_score))\n",
        "\n",
        "def train(model, training_loader, criterion, optimizer):\n",
        "    model.train()\n",
        "    running_loss = 0.0\n",
        "    num_correct = 0\n",
        "    for i, data in enumerate(training_loader):\n",
        "        data, labels = data['data'], data['label'].to(device)\n",
        "        optimizer.zero_grad()\n",
        "        output = model(data)\n",
        "        loss = criterion(output, labels)\n",
        "        running_loss += loss.item()\n",
        "        _, predictions = torch.max(output.data, 1)\n",
        "        num_correct += (predictions == labels).sum().item()\n",
        "        loss.backward()\n",
        "        optimizer.step()\n",
        "    \n",
        "    loss = running_loss/len(training_loader.dataset)\n",
        "    accuracy = num_correct/len(training_loader.dataset)\n",
        "    return loss, accuracy\n",
        "\n",
        "def get_predictions(output):\n",
        "    labels = []\n",
        "    for dictionary in output:\n",
        "        if(dictionary['scores'][0] > 0.8):\n",
        "            labels.append(dictionary['labels'][0])\n",
        "\n",
        "    return labels\n",
        "              \n",
        "\n",
        "def test(model, testing_data_set, criterion, print_incorrect_images):\n",
        "    model.eval()\n",
        "    running_loss = 0.0\n",
        "    num_correct = 0\n",
        "    all_labels, all_predictions = [], []\n",
        "\n",
        "    for i, data in enumerate(testing_data_set):\n",
        "        data, labels = data['data'], data['label']\n",
        "\n",
        "        output = model(data).pandas()\n",
        "        print(\"output: \")\n",
        "        print(output)\n",
        "\n",
        "        predictions = get_predictions(output)\n",
        "\n",
        "        #loss = criterion(output, labels)\n",
        "        #running_loss += loss.item()\n",
        "        #_, predictions = torch.max(output.data, 1)\n",
        "\n",
        "        for index, prediction in enumerate(predictions):\n",
        "            if(prediction == labels[index]):\n",
        "                num_correct += 1\n",
        "            elif(print_incorrect_images):\n",
        "                print_image(data[index], prediction)\n",
        "\n",
        "        all_labels.extend(labels.cpu())\n",
        "        all_predictions.extend(predictions)\n",
        "    \n",
        "    loss = running_loss/len(testing_loader.dataset)\n",
        "    accuracy = num_correct/len(testing_loader.dataset)\n",
        "    return loss, accuracy, all_labels, all_predictions"
      ]
    },
    {
      "cell_type": "code",
      "execution_count": null,
      "metadata": {
        "id": "ZBTEy1kg3pem"
      },
      "outputs": [],
      "source": [
        "def train_and_test(model, training_loader, testing_loader, ls_testing_loader, lis_testing_loader, device):\n",
        "    model.to(device)\n",
        "    criterion = nn.CrossEntropyLoss()\n",
        "    optimizer = optim.SGD(model.parameters(), lr=0.001, momentum=0.9)\n",
        "    \n",
        "    for epoch in range(5):\n",
        "        print(\"epoch: \" + str(epoch))\n",
        "        \n",
        "        training_loss, training_accuracy = train(model, training_loader, criterion, optimizer)\n",
        "        print(\"training loss: \" + str(training_loss) + \" and training accuracy: \" + str(training_accuracy))\n",
        "        \n",
        "        testing_loss, testing_accuracy, _, _ = test(model, testing_loader, criterion, False)\n",
        "        print(\"testing loss: \" + str(testing_loss) + \" and testing accuracy: \" + str(testing_accuracy))\n",
        "\n",
        "    testing_loss, testing_accuracy, labels, predictions = test(model, testing_loader, criterion, True)\n",
        "    print_testing_analysis(labels, predictions, \"Overall\")\n",
        "\n",
        "    testing_loss, testing_accuracy, labels, predictions = test(model, ls_testing_loader, criterion, False)\n",
        "    print_testing_analysis(labels, predictions, \"Lighting Sufficient\")\n",
        "\n",
        "    testing_loss, testing_accuracy, labels, predictions = test(model, lis_testing_loader, criterion, False)\n",
        "    print_testing_analysis(labels, predictions, \"Lighting Insufficient\")"
      ]
    },
    {
      "cell_type": "code",
      "execution_count": null,
      "metadata": {
        "id": "678WuU6g3tuV"
      },
      "outputs": [],
      "source": [
        "def train_and_test_YOLO(training_data_set, testing_data_set, ls_testing_data_set, lis_testing_data_set, device, num_classes):\n",
        "    print(\"\\nTraining and Testing YOLO\")\n",
        "    yolo = torch.hub.load('ultralytics/yolov5', 'yolov5s', pretrained=True)\n",
        "\n",
        "    #train_and_test(yolo, training_loader, testing_loader, ls_testing_loader, lis_testing_loader, device)\n",
        "\n",
        "    yolo.to(device)\n",
        "    testing_loss, testing_accuracy, _, _ = test(yolo, testing_data_set, nn.CrossEntropyLoss(), False)"
      ]
    },
    {
      "cell_type": "markdown",
      "metadata": {
        "id": "dAAF1fMaol0q"
      },
      "source": [
        "#Orchestration"
      ]
    },
    {
      "cell_type": "code",
      "execution_count": null,
      "metadata": {
        "colab": {
          "base_uri": "https://localhost:8080/"
        },
        "id": "89jqZ2L-3yeo",
        "outputId": "02270639-6407-4ccf-f3af-dcc58d45445a"
      },
      "outputs": [
        {
          "output_type": "stream",
          "name": "stdout",
          "text": [
            "Mounted at /content/drive\n"
          ]
        }
      ],
      "source": [
        "# Use this to connect to Google Drive in Google Colab\n",
        "drive.mount('/content/drive')\n",
        "\n",
        "# Use this to unzip file in Google Colab\n",
        "!unzip -qq drive/MyDrive/manually_labeled_wildlife_data"
      ]
    },
    {
      "cell_type": "code",
      "execution_count": null,
      "metadata": {
        "colab": {
          "base_uri": "https://localhost:8080/",
          "height": 352
        },
        "id": "rUjoI3B4W2ma",
        "outputId": "51c73c54-5346-45ce-8488-9e743f258aa7"
      },
      "outputs": [
        {
          "output_type": "display_data",
          "data": {
            "text/plain": [
              "<Figure size 432x288 with 2 Axes>"
            ],
            "image/png": "[encoded data removed]"
          },
          "metadata": {
            "needs_background": "light"
          }
        },
        {
          "output_type": "stream",
          "name": "stdout",
          "text": [
            "\n",
            "Number of training photos: 2996\n",
            "Number of testing photos: 999\n",
            "Number of lighting sufficient testing photos: 891\n",
            "Number of lighting insufficient testing photos: 108\n"
          ]
        }
      ],
      "source": [
        "present_file_pathes_ls = [\n",
        "  \"manually_labeled_wildlife_data/MP152_ODOT009_REPELCAM/present/lighting_sufficient/\",\n",
        "  \"manually_labeled_wildlife_data/MP152_ODOT003_EASTFACE/present/lighting_sufficient/\"\n",
        "]\n",
        "\n",
        "present_file_pathes_lis = [\n",
        "  \"manually_labeled_wildlife_data/MP152_ODOT009_REPELCAM/present/lighting_insufficient/\",\n",
        "  \"manually_labeled_wildlife_data/MP152_ODOT003_EASTFACE/present/lighting_insufficient/\"\n",
        "]\n",
        "\n",
        "not_present_file_pathes_ls = [\n",
        "  \"manually_labeled_wildlife_data/MP152_ODOT009_REPELCAM/not_present/lighting_sufficient/\",\n",
        "  \"manually_labeled_wildlife_data/MP152_ODOT003_EASTFACE/not_present/lighting_sufficient/\",\n",
        "]\n",
        "\n",
        "not_present_file_pathes_lis = [\n",
        "  \"manually_labeled_wildlife_data/MP152_ODOT009_REPELCAM/not_present/lighting_insufficient/\",\n",
        "  \"manually_labeled_wildlife_data/MP152_ODOT003_EASTFACE/not_present/lighting_insufficient/\",\n",
        "]\n",
        "\n",
        "batch_size = 10\n",
        "num_classes = 2\n",
        "\n",
        "training_data_set, testing_data_set, ls_testing_data_set, lis_testing_data_set = get_data_sets(\n",
        "    present_file_pathes_ls, \n",
        "    present_file_pathes_lis,\n",
        "    not_present_file_pathes_ls,\n",
        "    not_present_file_pathes_lis\n",
        ")\n",
        "\n",
        "device = torch.device(\"cuda:0\" if torch.cuda.is_available() else \"cpu\")\n",
        "torch.cuda.empty_cache()"
      ]
    },
    {
      "cell_type": "code",
      "execution_count": null,
      "metadata": {
        "colab": {
          "base_uri": "https://localhost:8080/",
          "height": 503
        },
        "id": "wo4rOP5risNx",
        "outputId": "50a069d8-95c8-4bb5-ba61-8d620a2df2fd"
      },
      "outputs": [
        {
          "output_type": "stream",
          "name": "stdout",
          "text": [
            "\n",
            "Training and Testing YOLO\n"
          ]
        },
        {
          "output_type": "stream",
          "name": "stderr",
          "text": [
            "Using cache found in /root/.cache/torch/hub/ultralytics_yolov5_master\n",
            "YOLOv5 🚀 2023-1-31 Python-3.8.10 torch-1.13.1+cu116 CUDA:0 (Tesla T4, 15110MiB)\n",
            "\n",
            "Fusing layers... \n",
            "YOLOv5s summary: 213 layers, 7225885 parameters, 0 gradients\n",
            "Adding AutoShape... \n"
          ]
        },
        {
          "output_type": "stream",
          "name": "stdout",
          "text": [
            "output: \n",
            "image 1/1: 1536x2048 (no detections)\n",
            "Speed: 7.5ms pre-process, 10.9ms inference, 0.5ms NMS per image at shape (1, 3, 480, 640)\n"
          ]
        },
        {
          "output_type": "error",
          "ename": "TypeError",
          "evalue": "ignored",
          "traceback": [
            "\u001b[0;31m---------------------------------------------------------------------------\u001b[0m",
            "\u001b[0;31mTypeError\u001b[0m                                 Traceback (most recent call last)",
            "\u001b[0;32m<ipython-input-25-2458d8123615>\u001b[0m in \u001b[0;36m<module>\u001b[0;34m\u001b[0m\n\u001b[0;32m----> 1\u001b[0;31m \u001b[0mtrain_and_test_YOLO\u001b[0m\u001b[0;34m(\u001b[0m\u001b[0mtraining_data_set\u001b[0m\u001b[0;34m,\u001b[0m \u001b[0mtesting_data_set\u001b[0m\u001b[0;34m,\u001b[0m \u001b[0mls_testing_data_set\u001b[0m\u001b[0;34m,\u001b[0m \u001b[0mlis_testing_data_set\u001b[0m\u001b[0;34m,\u001b[0m \u001b[0mdevice\u001b[0m\u001b[0;34m,\u001b[0m \u001b[0mnum_classes\u001b[0m\u001b[0;34m)\u001b[0m\u001b[0;34m\u001b[0m\u001b[0;34m\u001b[0m\u001b[0m\n\u001b[0m",
            "\u001b[0;32m<ipython-input-19-9c13dc259821>\u001b[0m in \u001b[0;36mtrain_and_test_YOLO\u001b[0;34m(training_data_set, testing_data_set, ls_testing_data_set, lis_testing_data_set, device, num_classes)\u001b[0m\n\u001b[1;32m      6\u001b[0m \u001b[0;34m\u001b[0m\u001b[0m\n\u001b[1;32m      7\u001b[0m     \u001b[0myolo\u001b[0m\u001b[0;34m.\u001b[0m\u001b[0mto\u001b[0m\u001b[0;34m(\u001b[0m\u001b[0mdevice\u001b[0m\u001b[0;34m)\u001b[0m\u001b[0;34m\u001b[0m\u001b[0;34m\u001b[0m\u001b[0m\n\u001b[0;32m----> 8\u001b[0;31m     \u001b[0mtesting_loss\u001b[0m\u001b[0;34m,\u001b[0m \u001b[0mtesting_accuracy\u001b[0m\u001b[0;34m,\u001b[0m \u001b[0m_\u001b[0m\u001b[0;34m,\u001b[0m \u001b[0m_\u001b[0m \u001b[0;34m=\u001b[0m \u001b[0mtest\u001b[0m\u001b[0;34m(\u001b[0m\u001b[0myolo\u001b[0m\u001b[0;34m,\u001b[0m \u001b[0mtesting_data_set\u001b[0m\u001b[0;34m,\u001b[0m \u001b[0mnn\u001b[0m\u001b[0;34m.\u001b[0m\u001b[0mCrossEntropyLoss\u001b[0m\u001b[0;34m(\u001b[0m\u001b[0;34m)\u001b[0m\u001b[0;34m,\u001b[0m \u001b[0;32mFalse\u001b[0m\u001b[0;34m)\u001b[0m\u001b[0;34m\u001b[0m\u001b[0;34m\u001b[0m\u001b[0m\n\u001b[0m",
            "\u001b[0;32m<ipython-input-24-3090d53be566>\u001b[0m in \u001b[0;36mtest\u001b[0;34m(model, testing_data_set, criterion, print_incorrect_images)\u001b[0m\n\u001b[1;32m     72\u001b[0m         \u001b[0mprint\u001b[0m\u001b[0;34m(\u001b[0m\u001b[0moutput\u001b[0m\u001b[0;34m)\u001b[0m\u001b[0;34m\u001b[0m\u001b[0;34m\u001b[0m\u001b[0m\n\u001b[1;32m     73\u001b[0m \u001b[0;34m\u001b[0m\u001b[0m\n\u001b[0;32m---> 74\u001b[0;31m         \u001b[0mpredictions\u001b[0m \u001b[0;34m=\u001b[0m \u001b[0mget_predictions\u001b[0m\u001b[0;34m(\u001b[0m\u001b[0moutput\u001b[0m\u001b[0;34m)\u001b[0m\u001b[0;34m\u001b[0m\u001b[0;34m\u001b[0m\u001b[0m\n\u001b[0m\u001b[1;32m     75\u001b[0m \u001b[0;34m\u001b[0m\u001b[0m\n\u001b[1;32m     76\u001b[0m         \u001b[0;31m#loss = criterion(output, labels)\u001b[0m\u001b[0;34m\u001b[0m\u001b[0;34m\u001b[0m\u001b[0;34m\u001b[0m\u001b[0m\n",
            "\u001b[0;32m<ipython-input-24-3090d53be566>\u001b[0m in \u001b[0;36mget_predictions\u001b[0;34m(output)\u001b[0m\n\u001b[1;32m     52\u001b[0m \u001b[0;32mdef\u001b[0m \u001b[0mget_predictions\u001b[0m\u001b[0;34m(\u001b[0m\u001b[0moutput\u001b[0m\u001b[0;34m)\u001b[0m\u001b[0;34m:\u001b[0m\u001b[0;34m\u001b[0m\u001b[0;34m\u001b[0m\u001b[0m\n\u001b[1;32m     53\u001b[0m     \u001b[0mlabels\u001b[0m \u001b[0;34m=\u001b[0m \u001b[0;34m[\u001b[0m\u001b[0;34m]\u001b[0m\u001b[0;34m\u001b[0m\u001b[0;34m\u001b[0m\u001b[0m\n\u001b[0;32m---> 54\u001b[0;31m     \u001b[0;32mfor\u001b[0m \u001b[0mdictionary\u001b[0m \u001b[0;32min\u001b[0m \u001b[0moutput\u001b[0m\u001b[0;34m:\u001b[0m\u001b[0;34m\u001b[0m\u001b[0;34m\u001b[0m\u001b[0m\n\u001b[0m\u001b[1;32m     55\u001b[0m         \u001b[0;32mif\u001b[0m\u001b[0;34m(\u001b[0m\u001b[0mdictionary\u001b[0m\u001b[0;34m[\u001b[0m\u001b[0;34m'scores'\u001b[0m\u001b[0;34m]\u001b[0m\u001b[0;34m[\u001b[0m\u001b[0;36m0\u001b[0m\u001b[0;34m]\u001b[0m \u001b[0;34m>\u001b[0m \u001b[0;36m0.8\u001b[0m\u001b[0;34m)\u001b[0m\u001b[0;34m:\u001b[0m\u001b[0;34m\u001b[0m\u001b[0;34m\u001b[0m\u001b[0m\n\u001b[1;32m     56\u001b[0m             \u001b[0mlabels\u001b[0m\u001b[0;34m.\u001b[0m\u001b[0mappend\u001b[0m\u001b[0;34m(\u001b[0m\u001b[0mdictionary\u001b[0m\u001b[0;34m[\u001b[0m\u001b[0;34m'labels'\u001b[0m\u001b[0;34m]\u001b[0m\u001b[0;34m[\u001b[0m\u001b[0;36m0\u001b[0m\u001b[0;34m]\u001b[0m\u001b[0;34m)\u001b[0m\u001b[0;34m\u001b[0m\u001b[0;34m\u001b[0m\u001b[0m\n",
            "\u001b[0;31mTypeError\u001b[0m: 'Detections' object is not iterable"
          ]
        }
      ],
      "source": [
        "train_and_test_YOLO(training_data_set, testing_data_set, ls_testing_data_set, lis_testing_data_set, device, num_classes)"
      ]
    },
    {
      "cell_type": "code",
      "execution_count": null,
      "metadata": {
        "id": "lFPv0w6fC106"
      },
      "outputs": [],
      "source": []
    }
  ],
  "metadata": {
    "accelerator": "GPU",
    "colab": {
      "provenance": []
    },
    "gpuClass": "standard",
    "kernelspec": {
      "display_name": "Python 3 (ipykernel)",
      "language": "python",
      "name": "python3"
    },
    "language_info": {
      "codemirror_mode": {
        "name": "ipython",
        "version": 3
      },
      "file_extension": ".py",
      "mimetype": "text/x-python",
      "name": "python",
      "nbconvert_exporter": "python",
      "pygments_lexer": "ipython3",
      "version": "3.10.7"
    }
  },
  "nbformat": 4,
  "nbformat_minor": 0
}